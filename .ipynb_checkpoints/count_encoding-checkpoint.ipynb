{
 "cells": [
  {
   "cell_type": "code",
   "execution_count": 1,
   "id": "a61144bd",
   "metadata": {},
   "outputs": [],
   "source": [
    "# Import libraries\n",
    "import numpy as np\n",
    "import pandas as pd\n",
    "\n",
    "# Display all columns\n",
    "pd.set_option('display.max_columns', None)\n",
    "\n",
    "# Import Houseprice data from GitHub\n",
    "data = pd.read_csv('https://github.com/jurand71/datasets/raw/master/HouseSalePriceCompetition/houseprice.csv')"
   ]
  },
  {
   "cell_type": "code",
   "execution_count": 2,
   "id": "a53d5204",
   "metadata": {},
   "outputs": [],
   "source": [
    "# Three variables were chosen from categorical variables for OneHotEncoder\n",
    "usecols = ['Neighborhood','Exterior1st','Exterior2nd']\n",
    "data = data[usecols]"
   ]
  },
  {
   "cell_type": "code",
   "execution_count": 3,
   "id": "9a686dc1",
   "metadata": {},
   "outputs": [
    {
     "name": "stdout",
     "output_type": "stream",
     "text": [
      "Neighborhood :  25\n",
      "Exterior1st :  15\n",
      "Exterior2nd :  16\n"
     ]
    }
   ],
   "source": [
    "# How many categories are in selected variables\n",
    "for col in usecols:\n",
    "    print(col,': ',len(data[col].unique()))"
   ]
  },
  {
   "cell_type": "code",
   "execution_count": 4,
   "id": "cae4f562",
   "metadata": {},
   "outputs": [],
   "source": [
    "# Obtain counts for each variable and replace categories by number of counts \n",
    "def count_encoding(df, variable):\n",
    "        count_map = df[variable].value_counts().to_dict()  \n",
    "        df[variable]=df[variable].map(count_map)\n",
    "\n",
    "for var in usecols:\n",
    "    count_encoding(data, var)"
   ]
  },
  {
   "cell_type": "code",
   "execution_count": 5,
   "id": "d5b9055d",
   "metadata": {},
   "outputs": [
    {
     "data": {
      "text/html": [
       "<div>\n",
       "<style scoped>\n",
       "    .dataframe tbody tr th:only-of-type {\n",
       "        vertical-align: middle;\n",
       "    }\n",
       "\n",
       "    .dataframe tbody tr th {\n",
       "        vertical-align: top;\n",
       "    }\n",
       "\n",
       "    .dataframe thead th {\n",
       "        text-align: right;\n",
       "    }\n",
       "</style>\n",
       "<table border=\"1\" class=\"dataframe\">\n",
       "  <thead>\n",
       "    <tr style=\"text-align: right;\">\n",
       "      <th></th>\n",
       "      <th>Neighborhood</th>\n",
       "      <th>Exterior1st</th>\n",
       "      <th>Exterior2nd</th>\n",
       "    </tr>\n",
       "  </thead>\n",
       "  <tbody>\n",
       "    <tr>\n",
       "      <th>0</th>\n",
       "      <td>150</td>\n",
       "      <td>515</td>\n",
       "      <td>504</td>\n",
       "    </tr>\n",
       "    <tr>\n",
       "      <th>1</th>\n",
       "      <td>11</td>\n",
       "      <td>220</td>\n",
       "      <td>214</td>\n",
       "    </tr>\n",
       "    <tr>\n",
       "      <th>2</th>\n",
       "      <td>150</td>\n",
       "      <td>515</td>\n",
       "      <td>504</td>\n",
       "    </tr>\n",
       "    <tr>\n",
       "      <th>3</th>\n",
       "      <td>51</td>\n",
       "      <td>206</td>\n",
       "      <td>38</td>\n",
       "    </tr>\n",
       "    <tr>\n",
       "      <th>4</th>\n",
       "      <td>41</td>\n",
       "      <td>515</td>\n",
       "      <td>504</td>\n",
       "    </tr>\n",
       "    <tr>\n",
       "      <th>...</th>\n",
       "      <td>...</td>\n",
       "      <td>...</td>\n",
       "      <td>...</td>\n",
       "    </tr>\n",
       "    <tr>\n",
       "      <th>1455</th>\n",
       "      <td>79</td>\n",
       "      <td>515</td>\n",
       "      <td>504</td>\n",
       "    </tr>\n",
       "    <tr>\n",
       "      <th>1456</th>\n",
       "      <td>73</td>\n",
       "      <td>108</td>\n",
       "      <td>142</td>\n",
       "    </tr>\n",
       "    <tr>\n",
       "      <th>1457</th>\n",
       "      <td>51</td>\n",
       "      <td>61</td>\n",
       "      <td>60</td>\n",
       "    </tr>\n",
       "    <tr>\n",
       "      <th>1458</th>\n",
       "      <td>225</td>\n",
       "      <td>220</td>\n",
       "      <td>214</td>\n",
       "    </tr>\n",
       "    <tr>\n",
       "      <th>1459</th>\n",
       "      <td>100</td>\n",
       "      <td>222</td>\n",
       "      <td>207</td>\n",
       "    </tr>\n",
       "  </tbody>\n",
       "</table>\n",
       "<p>1460 rows × 3 columns</p>\n",
       "</div>"
      ],
      "text/plain": [
       "      Neighborhood  Exterior1st  Exterior2nd\n",
       "0              150          515          504\n",
       "1               11          220          214\n",
       "2              150          515          504\n",
       "3               51          206           38\n",
       "4               41          515          504\n",
       "...            ...          ...          ...\n",
       "1455            79          515          504\n",
       "1456            73          108          142\n",
       "1457            51           61           60\n",
       "1458           225          220          214\n",
       "1459           100          222          207\n",
       "\n",
       "[1460 rows x 3 columns]"
      ]
     },
     "execution_count": 5,
     "metadata": {},
     "output_type": "execute_result"
    }
   ],
   "source": [
    "data"
   ]
  },
  {
   "cell_type": "code",
   "execution_count": null,
   "id": "72f139a6",
   "metadata": {},
   "outputs": [],
   "source": []
  }
 ],
 "metadata": {
  "kernelspec": {
   "display_name": "Python 3 (ipykernel)",
   "language": "python",
   "name": "python3"
  },
  "language_info": {
   "codemirror_mode": {
    "name": "ipython",
    "version": 3
   },
   "file_extension": ".py",
   "mimetype": "text/x-python",
   "name": "python",
   "nbconvert_exporter": "python",
   "pygments_lexer": "ipython3",
   "version": "3.8.5"
  }
 },
 "nbformat": 4,
 "nbformat_minor": 5
}
