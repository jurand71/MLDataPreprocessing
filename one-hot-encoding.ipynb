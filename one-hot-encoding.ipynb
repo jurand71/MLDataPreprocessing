{
 "cells": [
  {
   "cell_type": "code",
   "execution_count": 1,
   "id": "a61144bd",
   "metadata": {},
   "outputs": [],
   "source": [
    "# Import libraries\n",
    "import numpy as np\n",
    "import pandas as pd\n",
    "\n",
    "# Display all columns\n",
    "pd.set_option('display.max_columns', None)\n",
    "\n",
    "# Import Houseprice data from GitHub\n",
    "df = pd.read_csv('https://github.com/jurand71/datasets/raw/master/HouseSalePriceCompetition/houseprice.csv')"
   ]
  },
  {
   "cell_type": "code",
   "execution_count": 2,
   "id": "a03b9438",
   "metadata": {},
   "outputs": [],
   "source": [
    "# Determine categorical variables in the dataset\n",
    "categorical_variables = [var for var in df.columns if df[var].dtype == 'O']"
   ]
  },
  {
   "cell_type": "code",
   "execution_count": 3,
   "id": "17959087",
   "metadata": {},
   "outputs": [],
   "source": [
    "# Let's explore the cardinality in variables\n",
    "categories = {}\n",
    "for cat_variable in categorical_variables:\n",
    "    categories[df[cat_variable].name] = list(df[cat_variable].unique())"
   ]
  },
  {
   "cell_type": "code",
   "execution_count": 4,
   "id": "a53d5204",
   "metadata": {},
   "outputs": [],
   "source": [
    "# Three variables were chosen from categorical variables for OneHotEncoder\n",
    "usecols = ['HeatingQC','KitchenQual','CentralAir']\n",
    "df = df[usecols]"
   ]
  },
  {
   "cell_type": "code",
   "execution_count": 5,
   "id": "eb25620c",
   "metadata": {},
   "outputs": [
    {
     "name": "stdout",
     "output_type": "stream",
     "text": [
      "In HeatingQC are the following categories: ['Ex', 'Gd', 'TA', 'Fa', 'Po']\n",
      "In KitchenQual are the following categories: ['Gd', 'TA', 'Ex', 'Fa']\n",
      "In CentralAir are the following categories: ['Y', 'N']\n"
     ]
    }
   ],
   "source": [
    "# Print categories from selected categorical_variables\n",
    "for elem in usecols:\n",
    "    print('In {} are the following categories: {}'.format(elem, categories[elem]))"
   ]
  },
  {
   "cell_type": "code",
   "execution_count": 6,
   "id": "e6261101",
   "metadata": {},
   "outputs": [
    {
     "data": {
      "text/plain": [
       "OneHotEncoder(drop='first', sparse=False)"
      ]
     },
     "execution_count": 6,
     "metadata": {},
     "output_type": "execute_result"
    }
   ],
   "source": [
    "# Import OneHotEncoder class\n",
    "from sklearn.preprocessing import OneHotEncoder\n",
    "enc = OneHotEncoder(categories='auto',\n",
    "                    drop='first', # to return k-1, drop=false to return k dummies\n",
    "                    sparse=False,\n",
    "                    handle_unknown='error') # helps deal with rare labels)\n",
    "enc.fit(df.fillna('Missing'))"
   ]
  },
  {
   "cell_type": "code",
   "execution_count": 7,
   "id": "2609feb8",
   "metadata": {},
   "outputs": [
    {
     "data": {
      "text/plain": [
       "[array(['Ex', 'Fa', 'Gd', 'Po', 'TA'], dtype=object),\n",
       " array(['Ex', 'Fa', 'Gd', 'TA'], dtype=object),\n",
       " array(['N', 'Y'], dtype=object)]"
      ]
     },
     "execution_count": 7,
     "metadata": {},
     "output_type": "execute_result"
    }
   ],
   "source": [
    "# learned categories in dataset\n",
    "enc.categories_"
   ]
  },
  {
   "cell_type": "code",
   "execution_count": 8,
   "id": "1d3f6b63",
   "metadata": {},
   "outputs": [],
   "source": [
    "enc_data = enc.transform(df.fillna('Missing'))"
   ]
  },
  {
   "cell_type": "code",
   "execution_count": 9,
   "id": "77e3125f",
   "metadata": {},
   "outputs": [
    {
     "data": {
      "text/html": [
       "<div>\n",
       "<style scoped>\n",
       "    .dataframe tbody tr th:only-of-type {\n",
       "        vertical-align: middle;\n",
       "    }\n",
       "\n",
       "    .dataframe tbody tr th {\n",
       "        vertical-align: top;\n",
       "    }\n",
       "\n",
       "    .dataframe thead th {\n",
       "        text-align: right;\n",
       "    }\n",
       "</style>\n",
       "<table border=\"1\" class=\"dataframe\">\n",
       "  <thead>\n",
       "    <tr style=\"text-align: right;\">\n",
       "      <th></th>\n",
       "      <th>0</th>\n",
       "      <th>1</th>\n",
       "      <th>2</th>\n",
       "      <th>3</th>\n",
       "      <th>4</th>\n",
       "      <th>5</th>\n",
       "      <th>6</th>\n",
       "      <th>7</th>\n",
       "    </tr>\n",
       "  </thead>\n",
       "  <tbody>\n",
       "    <tr>\n",
       "      <th>0</th>\n",
       "      <td>0.0</td>\n",
       "      <td>0.0</td>\n",
       "      <td>0.0</td>\n",
       "      <td>0.0</td>\n",
       "      <td>0.0</td>\n",
       "      <td>1.0</td>\n",
       "      <td>0.0</td>\n",
       "      <td>1.0</td>\n",
       "    </tr>\n",
       "    <tr>\n",
       "      <th>1</th>\n",
       "      <td>0.0</td>\n",
       "      <td>0.0</td>\n",
       "      <td>0.0</td>\n",
       "      <td>0.0</td>\n",
       "      <td>0.0</td>\n",
       "      <td>0.0</td>\n",
       "      <td>1.0</td>\n",
       "      <td>1.0</td>\n",
       "    </tr>\n",
       "    <tr>\n",
       "      <th>2</th>\n",
       "      <td>0.0</td>\n",
       "      <td>0.0</td>\n",
       "      <td>0.0</td>\n",
       "      <td>0.0</td>\n",
       "      <td>0.0</td>\n",
       "      <td>1.0</td>\n",
       "      <td>0.0</td>\n",
       "      <td>1.0</td>\n",
       "    </tr>\n",
       "    <tr>\n",
       "      <th>3</th>\n",
       "      <td>0.0</td>\n",
       "      <td>1.0</td>\n",
       "      <td>0.0</td>\n",
       "      <td>0.0</td>\n",
       "      <td>0.0</td>\n",
       "      <td>1.0</td>\n",
       "      <td>0.0</td>\n",
       "      <td>1.0</td>\n",
       "    </tr>\n",
       "    <tr>\n",
       "      <th>4</th>\n",
       "      <td>0.0</td>\n",
       "      <td>0.0</td>\n",
       "      <td>0.0</td>\n",
       "      <td>0.0</td>\n",
       "      <td>0.0</td>\n",
       "      <td>1.0</td>\n",
       "      <td>0.0</td>\n",
       "      <td>1.0</td>\n",
       "    </tr>\n",
       "  </tbody>\n",
       "</table>\n",
       "</div>"
      ],
      "text/plain": [
       "     0    1    2    3    4    5    6    7\n",
       "0  0.0  0.0  0.0  0.0  0.0  1.0  0.0  1.0\n",
       "1  0.0  0.0  0.0  0.0  0.0  0.0  1.0  1.0\n",
       "2  0.0  0.0  0.0  0.0  0.0  1.0  0.0  1.0\n",
       "3  0.0  1.0  0.0  0.0  0.0  1.0  0.0  1.0\n",
       "4  0.0  0.0  0.0  0.0  0.0  1.0  0.0  1.0"
      ]
     },
     "execution_count": 9,
     "metadata": {},
     "output_type": "execute_result"
    }
   ],
   "source": [
    "pd.DataFrame(enc_data).head()"
   ]
  },
  {
   "cell_type": "code",
   "execution_count": 10,
   "id": "e5ea22b2",
   "metadata": {},
   "outputs": [
    {
     "data": {
      "text/plain": [
       "array(['HeatingQC_Fa', 'HeatingQC_Gd', 'HeatingQC_Po', 'HeatingQC_TA',\n",
       "       'KitchenQual_Fa', 'KitchenQual_Gd', 'KitchenQual_TA',\n",
       "       'CentralAir_Y'], dtype=object)"
      ]
     },
     "execution_count": 10,
     "metadata": {},
     "output_type": "execute_result"
    }
   ],
   "source": [
    "enc.get_feature_names_out()"
   ]
  }
 ],
 "metadata": {
  "kernelspec": {
   "display_name": "Python 3 (ipykernel)",
   "language": "python",
   "name": "python3"
  },
  "language_info": {
   "codemirror_mode": {
    "name": "ipython",
    "version": 3
   },
   "file_extension": ".py",
   "mimetype": "text/x-python",
   "name": "python",
   "nbconvert_exporter": "python",
   "pygments_lexer": "ipython3",
   "version": "3.8.5"
  }
 },
 "nbformat": 4,
 "nbformat_minor": 5
}
